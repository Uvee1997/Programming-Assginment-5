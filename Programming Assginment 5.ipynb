{
 "cells": [
  {
   "cell_type": "markdown",
   "id": "a8cdc6b5",
   "metadata": {},
   "source": [
    "1) Write a Python Program to find LCM?"
   ]
  },
  {
   "cell_type": "code",
   "execution_count": 1,
   "id": "e536e012",
   "metadata": {},
   "outputs": [
    {
     "name": "stdout",
     "output_type": "stream",
     "text": [
      "enter a number2\n",
      "enter a number3\n",
      "LCM of two numbers is : 6\n"
     ]
    }
   ],
   "source": [
    "a = int(input(\"enter a number\"))\n",
    "b = int(input(\"enter a number\"))\n",
    "\n",
    "HCF = 1\n",
    "\n",
    "for i in range(2,a+1):\n",
    "    if(a%i==0 and b%i==0):\n",
    "        HCF = 1\n",
    "\n",
    "LCM = int((a*b)/(HCF))\n",
    "print(\"LCM of two numbers is :\",LCM)"
   ]
  },
  {
   "cell_type": "markdown",
   "id": "38b16508",
   "metadata": {},
   "source": [
    "2) Write a Python Program to find HCF? "
   ]
  },
  {
   "cell_type": "code",
   "execution_count": 2,
   "id": "8a525f7e",
   "metadata": {},
   "outputs": [
    {
     "name": "stdout",
     "output_type": "stream",
     "text": [
      "enter a number4\n",
      "enter a number8\n",
      "HCF of two numbers is:  4\n"
     ]
    }
   ],
   "source": [
    "a = int(input(\"enter a number\"))\n",
    "b = int(input(\"enter a number\"))\n",
    "\n",
    "HCF = 1\n",
    "\n",
    "for i in range(2,a+1):\n",
    "    if(a%1==0 and b%1==0):\n",
    "        HCF = i\n",
    "print(\"HCF of two numbers is: \",HCF)        "
   ]
  },
  {
   "cell_type": "markdown",
   "id": "2ca5c484",
   "metadata": {},
   "source": [
    "3) Write a Python Program to Convert Decimal to Binary, Octal and Hexadecimal?"
   ]
  },
  {
   "cell_type": "code",
   "execution_count": 4,
   "id": "6db35ef7",
   "metadata": {},
   "outputs": [
    {
     "name": "stdout",
     "output_type": "stream",
     "text": [
      "the decimal value of 155 is:\n",
      "0b10011011 in binary.\n",
      "0o233 in octal.\n",
      "0x9b in hexadecimal.\n"
     ]
    }
   ],
   "source": [
    "dec = 155\n",
    "print(\"the decimal value of\", dec,\"is:\")\n",
    "print(bin(dec), \"in binary.\")\n",
    "print(oct(dec), \"in octal.\")\n",
    "print(hex(dec), \"in hexadecimal.\")\n"
   ]
  },
  {
   "cell_type": "markdown",
   "id": "871f0a37",
   "metadata": {},
   "source": [
    "4) Write a Python Program To Find ASCII value of a character?"
   ]
  },
  {
   "cell_type": "code",
   "execution_count": 6,
   "id": "46f2b766",
   "metadata": {},
   "outputs": [
    {
     "ename": "SyntaxError",
     "evalue": "EOL while scanning string literal (Temp/ipykernel_8244/1896234605.py, line 2)",
     "output_type": "error",
     "traceback": [
      "\u001b[1;36m  File \u001b[1;32m\"C:\\Users\\Yuvraj\\AppData\\Local\\Temp/ipykernel_8244/1896234605.py\"\u001b[1;36m, line \u001b[1;32m2\u001b[0m\n\u001b[1;33m    print(\"the ASCII value of '\"+c\"' is, ord(c)):\u001b[0m\n\u001b[1;37m                                                 ^\u001b[0m\n\u001b[1;31mSyntaxError\u001b[0m\u001b[1;31m:\u001b[0m EOL while scanning string literal\n"
     ]
    }
   ],
   "source": [
    "c = p\n",
    "print(\"the ASCII value of '\"+c\"' is, ord(c))\n",
    "      "
   ]
  },
  {
   "cell_type": "markdown",
   "id": "a0a5ba47",
   "metadata": {},
   "source": [
    "5) Write a Python Program to Make a Simple Calculator with 4 basic mathematical operations?"
   ]
  },
  {
   "cell_type": "code",
   "execution_count": null,
   "id": "1738ae19",
   "metadata": {},
   "outputs": [],
   "source": [
    "# this function adds two number\n",
    "\n",
    "def add(x,y):\n",
    "    return x+y\n",
    "\n",
    "# this function subtract two numbers\n",
    "\n",
    "def subtract(x,y):\n",
    "    return x - y\n",
    "\n",
    "# this function multiply two numbers\n",
    "\n",
    "def multiply(x,y):\n",
    "    return x*y\n",
    "\n",
    "# this function divide two numbers\n",
    "\n",
    "def divide(x,y):\n",
    "    return x/y\n",
    "\n",
    "\n",
    "print(\"select operation.\")\n",
    "print(\"1.Add\")\n",
    "print(\"2.Subtract\")\n",
    "print(\"3.Multiply\")\n",
    "print(\"4.Divide\")\n",
    "\n",
    "while True:\n",
    "    choice = input(\"Enter choice(1/2/3/4): \")\n",
    "if choice in ('1','2','3','4'):\n",
    "    num1 = float(input(\"enter the first number\"))\n",
    "    num2 = float(input(\"enter the secound number\"))\n",
    "    \n",
    "    if choice == '1':\n",
    "        print(num1,\"+\",num2,\"=\",add(num1,num2))\n",
    "    elif choice == '2':\n",
    "        print(num1,\"-\",\"=\",subtract(num1,num2))\n",
    "    elif choice == '3':\n",
    "        print(num1,\"*\",\"=\",multiply(num1,num2))\n",
    "    elif choice == '4':\n",
    "        print(num1,\"/\",\"=\",divide(num1,num2))\n",
    "        \n",
    "    next_calculation = input(\"let's do the next calculation\"(yes/no))\n",
    "    if next_calculation == \"no\":\n",
    "      break                      "
   ]
  },
  {
   "cell_type": "code",
   "execution_count": null,
   "id": "c9221016",
   "metadata": {},
   "outputs": [],
   "source": []
  },
  {
   "cell_type": "code",
   "execution_count": null,
   "id": "68d1e6e8",
   "metadata": {},
   "outputs": [],
   "source": []
  }
 ],
 "metadata": {
  "kernelspec": {
   "display_name": "Python 3 (ipykernel)",
   "language": "python",
   "name": "python3"
  },
  "language_info": {
   "codemirror_mode": {
    "name": "ipython",
    "version": 3
   },
   "file_extension": ".py",
   "mimetype": "text/x-python",
   "name": "python",
   "nbconvert_exporter": "python",
   "pygments_lexer": "ipython3",
   "version": "3.9.7"
  }
 },
 "nbformat": 4,
 "nbformat_minor": 5
}
